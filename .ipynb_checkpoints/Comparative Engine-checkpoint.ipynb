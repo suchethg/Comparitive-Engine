{
 "cells": [
  {
   "cell_type": "code",
   "execution_count": 1,
   "id": "a06bdca9",
   "metadata": {},
   "outputs": [],
   "source": [
    "import tweepy"
   ]
  },
  {
   "cell_type": "code",
   "execution_count": 2,
   "id": "70ebc77a",
   "metadata": {},
   "outputs": [],
   "source": [
    "from textblob import TextBlob"
   ]
  },
  {
   "cell_type": "code",
   "execution_count": 3,
   "id": "929c2962",
   "metadata": {},
   "outputs": [],
   "source": [
    "import statistics"
   ]
  },
  {
   "cell_type": "code",
   "execution_count": 4,
   "id": "da471322",
   "metadata": {},
   "outputs": [],
   "source": [
    "import preprocessor as p\n",
    "from preprocessor.api import clean, tokenize, parse\n",
    "consumer_key = \"\"\n",
    "consumer_secret = \"\"\n",
    "auth = tweepy.AppAuthHandler(consumer_key,consumer_secret)\n",
    "api = tweepy.API(auth)"
   ]
  },
  {
   "cell_type": "code",
   "execution_count": 5,
   "id": "0bc2ed84",
   "metadata": {},
   "outputs": [],
   "source": [
    "from typing import List\n"
   ]
  },
  {
   "cell_type": "code",
   "execution_count": 6,
   "id": "d0c92dc6",
   "metadata": {},
   "outputs": [],
   "source": [
    "def get_tweets(keyword:str)->List[str]:\n",
    "    all_tweets = []\n",
    "    for tweet in tweepy.Cursor(api.search,q=keyword,tweet_mode='extended',lang='en').items(10):\n",
    "        all_tweets.append(tweet.full_text)\n",
    "    return all_tweets "
   ]
  },
  {
   "cell_type": "code",
   "execution_count": 7,
   "id": "17c15648",
   "metadata": {},
   "outputs": [],
   "source": [
    "def clean_tweets(all_tweets:List[str])->List[str]:\n",
    "    tweets_clean = []\n",
    "    for tweet in all_tweets:\n",
    "        tweets_clean.append(clean(tweet))\n",
    "        \n",
    "    return tweets_clean\n",
    "    "
   ]
  },
  {
   "cell_type": "code",
   "execution_count": 8,
   "id": "f0ca2b51",
   "metadata": {},
   "outputs": [],
   "source": [
    "def get_sentiment(all_tweets:List[str])-> List[float]:\n",
    "    sentiment_scores = []\n",
    "    for tweet in all_tweets:\n",
    "        blob = TextBlob(tweet)\n",
    "        sentiment_scores.append(blob.sentiment.polarity)\n",
    "    \n",
    "    return sentiment_scores"
   ]
  },
  {
   "cell_type": "code",
   "execution_count": 9,
   "id": "ed7a4b75",
   "metadata": {},
   "outputs": [],
   "source": [
    "def generate_avg_sentiment_score(keyword:str)->int:\n",
    "    tweets= get_tweets(keyword)\n",
    "    tweets_clean = clean_tweets(tweets)\n",
    "    sentiment_scores = get_sentiment(tweets_clean)\n",
    "    \n",
    "    average_score = statistics.mean(sentiment_scores)\n",
    "    return average_score"
   ]
  },
  {
   "cell_type": "code",
   "execution_count": 10,
   "id": "5c21f541",
   "metadata": {},
   "outputs": [
    {
     "name": "stdout",
     "output_type": "stream",
     "text": [
      "What word do you want to compare\n",
      "Nike\n",
      "or\n",
      "Addidas\n",
      "\n",
      "\n",
      "people prefer Nike over Addidas\n"
     ]
    }
   ],
   "source": [
    "if __name__ == \"__main__\":\n",
    "    print(\"What word do you want to compare\")\n",
    "    first = input()\n",
    "    print(\"or\")\n",
    "    second = input()\n",
    "    print(\"\\n\")\n",
    "    \n",
    "    first_score = generate_avg_sentiment_score(first)\n",
    "    second_score = generate_avg_sentiment_score(second)\n",
    "    if(first_score > second_score):\n",
    "        print(f\"people prefer {first} over {second}\")\n",
    "    else:\n",
    "        print(f\"people prefer {second} over {first}\")"
   ]
  },
  {
   "cell_type": "code",
   "execution_count": null,
   "id": "14ce394c",
   "metadata": {},
   "outputs": [],
   "source": []
  }
 ],
 "metadata": {
  "kernelspec": {
   "display_name": "Python 3",
   "language": "python",
   "name": "python3"
  },
  "language_info": {
   "codemirror_mode": {
    "name": "ipython",
    "version": 3
   },
   "file_extension": ".py",
   "mimetype": "text/x-python",
   "name": "python",
   "nbconvert_exporter": "python",
   "pygments_lexer": "ipython3",
   "version": "3.8.11"
  }
 },
 "nbformat": 4,
 "nbformat_minor": 5
}
